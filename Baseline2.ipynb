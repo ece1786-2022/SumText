{
  "nbformat": 4,
  "nbformat_minor": 0,
  "metadata": {
    "colab": {
      "provenance": [],
      "toc_visible": true,
      "machine_shape": "hm"
    },
    "kernelspec": {
      "name": "python3",
      "display_name": "Python 3"
    },
    "language_info": {
      "name": "python"
    },
    "gpuClass": "standard",
    "accelerator": "GPU"
  },
  "cells": [
    {
      "cell_type": "markdown",
      "source": [
        "# Library and Dataset"
      ],
      "metadata": {
        "id": "7MA0tO-jQTOE"
      }
    },
    {
      "cell_type": "code",
      "execution_count": 1,
      "metadata": {
        "id": "Ch5T9Sp1QPBC"
      },
      "outputs": [],
      "source": [
        "%%capture\n",
        "!pip install datasets\n",
        "!pip install transformers\n",
        "!pip install evaluate\n",
        "!pip install bert_score"
      ]
    },
    {
      "cell_type": "code",
      "source": [
        "import re\n",
        "import os\n",
        "import pandas as pd\n",
        "import numpy as np\n",
        "import random\n",
        "\n",
        "import nltk\n",
        "nltk.download('stopwords')\n",
        "from nltk.corpus import stopwords\n",
        "from nltk.tokenize import sent_tokenize\n",
        "\n",
        "import torch\n",
        "import torch.nn as nn\n",
        "from torch import optim\n",
        "import torch.nn.functional as F\n",
        "from torch.utils.data.dataloader import DataLoader\n",
        "import transformers\n",
        "import datasets\n",
        "\n",
        "import evaluate\n",
        "from evaluate import load"
      ],
      "metadata": {
        "id": "-0sWzrnKQXKA"
      },
      "execution_count": null,
      "outputs": []
    },
    {
      "cell_type": "code",
      "source": [
        "CNN_dataset_train = datasets.load_dataset(\"cnn_dailymail\", \"3.0.0\", split=\"train[:2%]\")\n",
        "CNN_dataset_val = datasets.load_dataset(\"cnn_dailymail\", \"3.0.0\", split=\"validation[:5%]\")\n",
        "CNN_dataset_test = datasets.load_dataset(\"cnn_dailymail\", \"3.0.0\", split=\"test[:5%]\")"
      ],
      "metadata": {
        "id": "eOptEfJFaI7V"
      },
      "execution_count": null,
      "outputs": []
    },
    {
      "cell_type": "markdown",
      "source": [
        "# Preprocessing and Tokenization"
      ],
      "metadata": {
        "id": "eCkVOCrfiZf5"
      }
    },
    {
      "cell_type": "code",
      "source": [
        "contraction_mapping = {\"ain't\": \"is not\", \"aren't\": \"are not\",\"can't\": \"cannot\", \"'cause\": \"because\", \"could've\": \"could have\", \"couldn't\": \"could not\",\n",
        "\n",
        "                           \"didn't\": \"did not\", \"doesn't\": \"does not\", \"don't\": \"do not\", \"hadn't\": \"had not\", \"hasn't\": \"has not\", \"haven't\": \"have not\",\n",
        "\n",
        "                           \"he'd\": \"he would\",\"he'll\": \"he will\", \"he's\": \"he is\", \"how'd\": \"how did\", \"how'd'y\": \"how do you\", \"how'll\": \"how will\", \"how's\": \"how is\",\n",
        "\n",
        "                           \"I'd\": \"I would\", \"I'd've\": \"I would have\", \"I'll\": \"I will\", \"I'll've\": \"I will have\",\"I'm\": \"I am\", \"I've\": \"I have\", \"i'd\": \"i would\",\n",
        "\n",
        "                           \"i'd've\": \"i would have\", \"i'll\": \"i will\",  \"i'll've\": \"i will have\",\"i'm\": \"i am\", \"i've\": \"i have\", \"isn't\": \"is not\", \"it'd\": \"it would\",\n",
        "\n",
        "                           \"it'd've\": \"it would have\", \"it'll\": \"it will\", \"it'll've\": \"it will have\",\"it's\": \"it is\", \"let's\": \"let us\", \"ma'am\": \"madam\",\n",
        "\n",
        "                           \"mayn't\": \"may not\", \"might've\": \"might have\",\"mightn't\": \"might not\",\"mightn't've\": \"might not have\", \"must've\": \"must have\",\n",
        "\n",
        "                           \"mustn't\": \"must not\", \"mustn't've\": \"must not have\", \"needn't\": \"need not\", \"needn't've\": \"need not have\",\"o'clock\": \"of the clock\",\n",
        "\n",
        "                           \"oughtn't\": \"ought not\", \"oughtn't've\": \"ought not have\", \"shan't\": \"shall not\", \"sha'n't\": \"shall not\", \"shan't've\": \"shall not have\",\n",
        "\n",
        "                           \"she'd\": \"she would\", \"she'd've\": \"she would have\", \"she'll\": \"she will\", \"she'll've\": \"she will have\", \"she's\": \"she is\",\n",
        "\n",
        "                           \"should've\": \"should have\", \"shouldn't\": \"should not\", \"shouldn't've\": \"should not have\", \"so've\": \"so have\",\"so's\": \"so as\",\n",
        "\n",
        "                           \"this's\": \"this is\",\"that'd\": \"that would\", \"that'd've\": \"that would have\", \"that's\": \"that is\", \"there'd\": \"there would\",\n",
        "\n",
        "                           \"there'd've\": \"there would have\", \"there's\": \"there is\", \"here's\": \"here is\",\"they'd\": \"they would\", \"they'd've\": \"they would have\",\n",
        "\n",
        "                           \"they'll\": \"they will\", \"they'll've\": \"they will have\", \"they're\": \"they are\", \"they've\": \"they have\", \"to've\": \"to have\",\n",
        "\n",
        "                           \"wasn't\": \"was not\", \"we'd\": \"we would\", \"we'd've\": \"we would have\", \"we'll\": \"we will\", \"we'll've\": \"we will have\", \"we're\": \"we are\",\n",
        "\n",
        "                           \"we've\": \"we have\", \"weren't\": \"were not\", \"what'll\": \"what will\", \"what'll've\": \"what will have\", \"what're\": \"what are\",\n",
        "\n",
        "                           \"what's\": \"what is\", \"what've\": \"what have\", \"when's\": \"when is\", \"when've\": \"when have\", \"where'd\": \"where did\", \"where's\": \"where is\",\n",
        "\n",
        "                           \"where've\": \"where have\", \"who'll\": \"who will\", \"who'll've\": \"who will have\", \"who's\": \"who is\", \"who've\": \"who have\",\n",
        "\n",
        "                           \"why's\": \"why is\", \"why've\": \"why have\", \"will've\": \"will have\", \"won't\": \"will not\", \"won't've\": \"will not have\",\n",
        "\n",
        "                           \"would've\": \"would have\", \"wouldn't\": \"would not\", \"wouldn't've\": \"would not have\", \"y'all\": \"you all\",\n",
        "\n",
        "                           \"y'all'd\": \"you all would\",\"y'all'd've\": \"you all would have\",\"y'all're\": \"you all are\",\"y'all've\": \"you all have\",\n",
        "\n",
        "                           \"you'd\": \"you would\", \"you'd've\": \"you would have\", \"you'll\": \"you will\", \"you'll've\": \"you will have\",\n",
        "\n",
        "                           \"you're\": \"you are\", \"you've\": \"you have\"}\n",
        "stop_words = stopwords.words('english')"
      ],
      "metadata": {
        "id": "ZGyd8cbEO8uY"
      },
      "execution_count": 4,
      "outputs": []
    },
    {
      "cell_type": "code",
      "source": [
        "def clean_data(text):\n",
        "  text = text.lower()\n",
        "  text = ' '.join([contraction_mapping[t] if t in contraction_mapping else t for t in text.split(\" \")])\n",
        "\n",
        "  ### remove stopwords\n",
        "  # text = text.split()\n",
        "  # newtext = []\n",
        "  # for word in text:\n",
        "  #   if word not in stop_words:\n",
        "  #     newtext.append(word)\n",
        "  # text = \" \".join(newtext)\n",
        "\n",
        "  text=re.sub(r'\\n',' ', text)\n",
        "  text=re.sub(r'>',' ', text)\n",
        "  text=re.sub(r'<',' ', text)\n",
        "  text=re.sub(r'LRB',' ', text)\n",
        "  text=re.sub(r'RRB',' ', text)\n",
        "  text = re.sub(r'[\" \"]+', \" \", text)\n",
        "  text=re.sub(r'-- ',' ', text)\n",
        "  text=re.sub(r\"([?!¿])\", r\" \\1 \", text)\n",
        "  text=re.sub(r'-',' ', text)\n",
        "  text=text.replace('/',' ')\n",
        "  text=re.sub(r'\\s+', ' ', text)\n",
        "  text = re.sub('[^A-Za-z0-9.,]+', ' ', text)\n",
        "  return text"
      ],
      "metadata": {
        "id": "6EsZlHcWEGcT"
      },
      "execution_count": 5,
      "outputs": []
    },
    {
      "cell_type": "code",
      "source": [
        "n = 10000\n",
        "\n",
        "train_article = []\n",
        "train_article.extend(CNN_dataset_train[\"article\"])\n",
        "#train_article.extend(XSum_dataset[\"train\"][0:n][\"document\"])\n",
        "train_summary = []\n",
        "train_summary.extend(CNN_dataset_train[\"highlights\"])\n",
        "#train_summary.extend(XSum_dataset[\"train\"][0:n][\"summary\"])\n",
        "\n",
        "dataset = pd.DataFrame()\n",
        "dataset[\"article\"] = train_article\n",
        "dataset[\"highlights\"] = train_summary"
      ],
      "metadata": {
        "id": "WPm-jiVUGok-"
      },
      "execution_count": 6,
      "outputs": []
    },
    {
      "cell_type": "code",
      "source": [
        "dataset[\"article\"] = dataset[\"article\"].apply(clean_data)\n",
        "dataset[\"highlights\"] = dataset[\"highlights\"].apply(clean_data)\n",
        "dataset"
      ],
      "metadata": {
        "colab": {
          "base_uri": "https://localhost:8080/",
          "height": 424
        },
        "id": "_nCMj36Qa_jt",
        "outputId": "da70d1a5-bfb1-4c5f-9c66-c4e5e49ea99f"
      },
      "execution_count": 7,
      "outputs": [
        {
          "output_type": "execute_result",
          "data": {
            "text/plain": [
              "                                                article  \\\n",
              "0     london, england reuters harry potter star dani...   \n",
              "1     editor s note in our behind the scenes series,...   \n",
              "2     minneapolis, minnesota cnn drivers who were on...   \n",
              "3     washington cnn doctors removed five small poly...   \n",
              "4      cnn the national football league has indefini...   \n",
              "...                                                 ...   \n",
              "5737  miami, florida cnn forecasters issued a tropic...   \n",
              "5738  kabul, afghanistan cnn afghanistan officials s...   \n",
              "5739   cnn ten climbers have died on two mountains i...   \n",
              "5740   cnn kids dig in the sand at the beach all the...   \n",
              "5741   cnn eight time gold medal winner at the beiji...   \n",
              "\n",
              "                                             highlights  \n",
              "0     harry potter star daniel radcliffe gets 20m fo...  \n",
              "1     mentally ill inmates in miami are housed on th...  \n",
              "2     new i thought i was going to die, driver says ...  \n",
              "3     five small polyps found during procedure none ...  \n",
              "4     new nfl chief, atlanta falcons owner critical ...  \n",
              "...                                                 ...  \n",
              "5737  bermuda on alert as hurricane bill gets closer...  \n",
              "5738  26 people killed in election day violence, afg...  \n",
              "5739  10 climbers have died on two mountains in nort...  \n",
              "5740  boy, 11, was digging a tunnel with friends on ...  \n",
              "5741  michael phelps sets new men s 100m fly world r...  \n",
              "\n",
              "[5742 rows x 2 columns]"
            ],
            "text/html": [
              "\n",
              "  <div id=\"df-1a5d063a-b7f6-49b9-801f-bd890dc0dd2a\">\n",
              "    <div class=\"colab-df-container\">\n",
              "      <div>\n",
              "<style scoped>\n",
              "    .dataframe tbody tr th:only-of-type {\n",
              "        vertical-align: middle;\n",
              "    }\n",
              "\n",
              "    .dataframe tbody tr th {\n",
              "        vertical-align: top;\n",
              "    }\n",
              "\n",
              "    .dataframe thead th {\n",
              "        text-align: right;\n",
              "    }\n",
              "</style>\n",
              "<table border=\"1\" class=\"dataframe\">\n",
              "  <thead>\n",
              "    <tr style=\"text-align: right;\">\n",
              "      <th></th>\n",
              "      <th>article</th>\n",
              "      <th>highlights</th>\n",
              "    </tr>\n",
              "  </thead>\n",
              "  <tbody>\n",
              "    <tr>\n",
              "      <th>0</th>\n",
              "      <td>london, england reuters harry potter star dani...</td>\n",
              "      <td>harry potter star daniel radcliffe gets 20m fo...</td>\n",
              "    </tr>\n",
              "    <tr>\n",
              "      <th>1</th>\n",
              "      <td>editor s note in our behind the scenes series,...</td>\n",
              "      <td>mentally ill inmates in miami are housed on th...</td>\n",
              "    </tr>\n",
              "    <tr>\n",
              "      <th>2</th>\n",
              "      <td>minneapolis, minnesota cnn drivers who were on...</td>\n",
              "      <td>new i thought i was going to die, driver says ...</td>\n",
              "    </tr>\n",
              "    <tr>\n",
              "      <th>3</th>\n",
              "      <td>washington cnn doctors removed five small poly...</td>\n",
              "      <td>five small polyps found during procedure none ...</td>\n",
              "    </tr>\n",
              "    <tr>\n",
              "      <th>4</th>\n",
              "      <td>cnn the national football league has indefini...</td>\n",
              "      <td>new nfl chief, atlanta falcons owner critical ...</td>\n",
              "    </tr>\n",
              "    <tr>\n",
              "      <th>...</th>\n",
              "      <td>...</td>\n",
              "      <td>...</td>\n",
              "    </tr>\n",
              "    <tr>\n",
              "      <th>5737</th>\n",
              "      <td>miami, florida cnn forecasters issued a tropic...</td>\n",
              "      <td>bermuda on alert as hurricane bill gets closer...</td>\n",
              "    </tr>\n",
              "    <tr>\n",
              "      <th>5738</th>\n",
              "      <td>kabul, afghanistan cnn afghanistan officials s...</td>\n",
              "      <td>26 people killed in election day violence, afg...</td>\n",
              "    </tr>\n",
              "    <tr>\n",
              "      <th>5739</th>\n",
              "      <td>cnn ten climbers have died on two mountains i...</td>\n",
              "      <td>10 climbers have died on two mountains in nort...</td>\n",
              "    </tr>\n",
              "    <tr>\n",
              "      <th>5740</th>\n",
              "      <td>cnn kids dig in the sand at the beach all the...</td>\n",
              "      <td>boy, 11, was digging a tunnel with friends on ...</td>\n",
              "    </tr>\n",
              "    <tr>\n",
              "      <th>5741</th>\n",
              "      <td>cnn eight time gold medal winner at the beiji...</td>\n",
              "      <td>michael phelps sets new men s 100m fly world r...</td>\n",
              "    </tr>\n",
              "  </tbody>\n",
              "</table>\n",
              "<p>5742 rows × 2 columns</p>\n",
              "</div>\n",
              "      <button class=\"colab-df-convert\" onclick=\"convertToInteractive('df-1a5d063a-b7f6-49b9-801f-bd890dc0dd2a')\"\n",
              "              title=\"Convert this dataframe to an interactive table.\"\n",
              "              style=\"display:none;\">\n",
              "        \n",
              "  <svg xmlns=\"http://www.w3.org/2000/svg\" height=\"24px\"viewBox=\"0 0 24 24\"\n",
              "       width=\"24px\">\n",
              "    <path d=\"M0 0h24v24H0V0z\" fill=\"none\"/>\n",
              "    <path d=\"M18.56 5.44l.94 2.06.94-2.06 2.06-.94-2.06-.94-.94-2.06-.94 2.06-2.06.94zm-11 1L8.5 8.5l.94-2.06 2.06-.94-2.06-.94L8.5 2.5l-.94 2.06-2.06.94zm10 10l.94 2.06.94-2.06 2.06-.94-2.06-.94-.94-2.06-.94 2.06-2.06.94z\"/><path d=\"M17.41 7.96l-1.37-1.37c-.4-.4-.92-.59-1.43-.59-.52 0-1.04.2-1.43.59L10.3 9.45l-7.72 7.72c-.78.78-.78 2.05 0 2.83L4 21.41c.39.39.9.59 1.41.59.51 0 1.02-.2 1.41-.59l7.78-7.78 2.81-2.81c.8-.78.8-2.07 0-2.86zM5.41 20L4 18.59l7.72-7.72 1.47 1.35L5.41 20z\"/>\n",
              "  </svg>\n",
              "      </button>\n",
              "      \n",
              "  <style>\n",
              "    .colab-df-container {\n",
              "      display:flex;\n",
              "      flex-wrap:wrap;\n",
              "      gap: 12px;\n",
              "    }\n",
              "\n",
              "    .colab-df-convert {\n",
              "      background-color: #E8F0FE;\n",
              "      border: none;\n",
              "      border-radius: 50%;\n",
              "      cursor: pointer;\n",
              "      display: none;\n",
              "      fill: #1967D2;\n",
              "      height: 32px;\n",
              "      padding: 0 0 0 0;\n",
              "      width: 32px;\n",
              "    }\n",
              "\n",
              "    .colab-df-convert:hover {\n",
              "      background-color: #E2EBFA;\n",
              "      box-shadow: 0px 1px 2px rgba(60, 64, 67, 0.3), 0px 1px 3px 1px rgba(60, 64, 67, 0.15);\n",
              "      fill: #174EA6;\n",
              "    }\n",
              "\n",
              "    [theme=dark] .colab-df-convert {\n",
              "      background-color: #3B4455;\n",
              "      fill: #D2E3FC;\n",
              "    }\n",
              "\n",
              "    [theme=dark] .colab-df-convert:hover {\n",
              "      background-color: #434B5C;\n",
              "      box-shadow: 0px 1px 3px 1px rgba(0, 0, 0, 0.15);\n",
              "      filter: drop-shadow(0px 1px 2px rgba(0, 0, 0, 0.3));\n",
              "      fill: #FFFFFF;\n",
              "    }\n",
              "  </style>\n",
              "\n",
              "      <script>\n",
              "        const buttonEl =\n",
              "          document.querySelector('#df-1a5d063a-b7f6-49b9-801f-bd890dc0dd2a button.colab-df-convert');\n",
              "        buttonEl.style.display =\n",
              "          google.colab.kernel.accessAllowed ? 'block' : 'none';\n",
              "\n",
              "        async function convertToInteractive(key) {\n",
              "          const element = document.querySelector('#df-1a5d063a-b7f6-49b9-801f-bd890dc0dd2a');\n",
              "          const dataTable =\n",
              "            await google.colab.kernel.invokeFunction('convertToInteractive',\n",
              "                                                     [key], {});\n",
              "          if (!dataTable) return;\n",
              "\n",
              "          const docLinkHtml = 'Like what you see? Visit the ' +\n",
              "            '<a target=\"_blank\" href=https://colab.research.google.com/notebooks/data_table.ipynb>data table notebook</a>'\n",
              "            + ' to learn more about interactive tables.';\n",
              "          element.innerHTML = '';\n",
              "          dataTable['output_type'] = 'display_data';\n",
              "          await google.colab.output.renderOutput(dataTable, element);\n",
              "          const docLink = document.createElement('div');\n",
              "          docLink.innerHTML = docLinkHtml;\n",
              "          element.appendChild(docLink);\n",
              "        }\n",
              "      </script>\n",
              "    </div>\n",
              "  </div>\n",
              "  "
            ]
          },
          "metadata": {},
          "execution_count": 7
        }
      ]
    },
    {
      "cell_type": "code",
      "source": [
        "x = dataset['article']\n",
        "y = dataset['highlights']"
      ],
      "metadata": {
        "id": "xAOpSR1jThVb"
      },
      "execution_count": 8,
      "outputs": []
    },
    {
      "cell_type": "code",
      "source": [
        "device = torch.device(\"cuda\" if torch.cuda.is_available() else \"cpu\")"
      ],
      "metadata": {
        "id": "qYqENJqQ92ui"
      },
      "execution_count": 9,
      "outputs": []
    },
    {
      "cell_type": "code",
      "source": [
        "SOS_token = 0\n",
        "EOS_token = 1\n",
        "\n",
        "class Lang:\n",
        "    def __init__(self, name):\n",
        "        self.name = name\n",
        "        self.word2index = {}\n",
        "        self.word2count = {}\n",
        "        self.index2word = {0: \"SOS\", 1: \"EOS\"}\n",
        "        self.n_words = 2  # Count SOS and EOS\n",
        "\n",
        "    def addSentence(self, sentence):\n",
        "        for word in sentence.split(' '):\n",
        "            self.addWord(word)\n",
        "\n",
        "    def addWord(self, word):\n",
        "        if word not in self.word2index:\n",
        "            self.word2index[word] = self.n_words\n",
        "            self.word2count[word] = 1\n",
        "            self.index2word[self.n_words] = word\n",
        "            self.n_words += 1\n",
        "        else:\n",
        "            self.word2count[word] += 1"
      ],
      "metadata": {
        "id": "L6IsSEcaLqam"
      },
      "execution_count": 10,
      "outputs": []
    },
    {
      "cell_type": "code",
      "source": [
        "def readLangs(text, summary, reverse=False):\n",
        "    print(\"Reading lines...\")\n",
        "    \n",
        "    # Split every line into pairs and normalize\n",
        "    pairs = [[text[i],summary[i]] for i in range(len(text))]\n",
        "\n",
        "    # Reverse pairs, make Lang instances\n",
        "    if reverse:\n",
        "        pairs = [list(reversed(p)) for p in pairs]\n",
        "        input_lang = Lang(summary)\n",
        "        output_lang = Lang(text)\n",
        "    else:\n",
        "        input_lang = Lang(text)\n",
        "        output_lang = Lang(summary)\n",
        "\n",
        "    return input_lang, output_lang, pairs"
      ],
      "metadata": {
        "id": "Q77j6FbSTW4_"
      },
      "execution_count": 11,
      "outputs": []
    },
    {
      "cell_type": "code",
      "source": [
        "def prepareData(lang1, lang2, reverse=False):\n",
        "    input_lang, output_lang, pairs = readLangs(lang1, lang2, reverse)\n",
        "    print(\"Read %s sentence pairs\" % len(pairs))\n",
        "    print(\"Counting words...\")\n",
        "    for pair in pairs:\n",
        "        input_lang.addSentence(pair[0])\n",
        "        output_lang.addSentence(pair[1])\n",
        "    print(\"Counted words:\")\n",
        "    print(input_lang.name, input_lang.n_words)\n",
        "    print(output_lang.name, output_lang.n_words)\n",
        "    return input_lang, output_lang, pairs"
      ],
      "metadata": {
        "id": "5jZlbo8LTZLF"
      },
      "execution_count": 12,
      "outputs": []
    },
    {
      "cell_type": "code",
      "source": [
        "input_lang, output_lang, pairs = prepareData( x, y , False)\n",
        "print(random.choice(pairs))"
      ],
      "metadata": {
        "colab": {
          "base_uri": "https://localhost:8080/"
        },
        "id": "UGUJ0OmoTeq_",
        "outputId": "acb8248d-5cd7-4bd7-9a65-bc05e367d8e1"
      },
      "execution_count": 13,
      "outputs": [
        {
          "output_type": "stream",
          "name": "stdout",
          "text": [
            "Reading lines...\n",
            "Read 5742 sentence pairs\n",
            "Counting words...\n",
            "Counted words:\n",
            "0       london, england reuters harry potter star dani...\n",
            "1       editor s note in our behind the scenes series,...\n",
            "2       minneapolis, minnesota cnn drivers who were on...\n",
            "3       washington cnn doctors removed five small poly...\n",
            "4        cnn the national football league has indefini...\n",
            "                              ...                        \n",
            "5737    miami, florida cnn forecasters issued a tropic...\n",
            "5738    kabul, afghanistan cnn afghanistan officials s...\n",
            "5739     cnn ten climbers have died on two mountains i...\n",
            "5740     cnn kids dig in the sand at the beach all the...\n",
            "5741     cnn eight time gold medal winner at the beiji...\n",
            "Name: article, Length: 5742, dtype: object 104240\n",
            "0       harry potter star daniel radcliffe gets 20m fo...\n",
            "1       mentally ill inmates in miami are housed on th...\n",
            "2       new i thought i was going to die, driver says ...\n",
            "3       five small polyps found during procedure none ...\n",
            "4       new nfl chief, atlanta falcons owner critical ...\n",
            "                              ...                        \n",
            "5737    bermuda on alert as hurricane bill gets closer...\n",
            "5738    26 people killed in election day violence, afg...\n",
            "5739    10 climbers have died on two mountains in nort...\n",
            "5740    boy, 11, was digging a tunnel with friends on ...\n",
            "5741    michael phelps sets new men s 100m fly world r...\n",
            "Name: highlights, Length: 5742, dtype: object 24424\n",
            "[' cnn two tractor trailer trucks crashed and burst into flames thursday on a bridge between the united states and mexico, shutting a key border crossing and killing four people, police said. police look at the aftermath of a fiery crash on a bridge linking reynosa, mexico, and pharr, texas. the collision on the pharr reynosa international bridge in texas triggered a chain reaction accident with three other vehicles, said lt. lupe salinas with the pharr police department. a pickup flipped off the bridge, killing three people. another person died in a vehicle that struck one of the tractor trailers. six others were injured. pharr emergency management coordinator elsa sanchez told the associated press the pickup truck had texas license plates, and the two 18 wheelers and a minivan involved in the wreck appeared to have mexican plates. watch aftermath of fiery crash . the accident happened around 7 30 p.m. 8 30 p.m. et . the bridge was closed for the rest of the evening. the bridge reopened on friday morning after texas department of trnasportation engineers inspected it, according to cnn affiliate krgv. the bridge is normally open from 6 a.m. until midnight and is closed overnight. the 3.2 mile long bridge connects u.s. 281 in pharr, texas, to the city of reynosa in the mexican state of tamaulipas, according to the city of pharr s web site. on an average day, the site says, 5,800 vehicles cross it. e mail to a friend . cnn s ed payne and jessica jordan contributed to this story. copyright 2008 cnn. all rights reserved.this material may not be published, broadcast, rewritten, or redistributed. associated press contributed to this report.', 'new bridge reopens friday morning after highway engineers give ok . four killed in chain reaction crash that started when two tractor trailers collided . three killed in pickup truck that fell off bridge 4th victim in car that hit one 18 wheeler . crash happened on bridge linking pharr, texas, and reynosa, mexico .']\n"
          ]
        }
      ]
    },
    {
      "cell_type": "code",
      "source": [
        "def indexesFromSentence(lang, sentence):\n",
        "    return [lang.word2index[word] for word in sentence.split(' ')]\n",
        "\n",
        "\n",
        "def tensorFromSentence(lang, sentence):\n",
        "    indexes = indexesFromSentence(lang, sentence)\n",
        "    indexes.append(EOS_token)\n",
        "    return torch.tensor(indexes, dtype=torch.long, device=device).view(-1, 1)\n",
        "\n",
        "\n",
        "def tensorsFromPair(pair):\n",
        "    input_tensor = tensorFromSentence(input_lang, pair[0])\n",
        "    target_tensor = tensorFromSentence(output_lang, pair[1])\n",
        "    return (input_tensor, target_tensor)"
      ],
      "metadata": {
        "id": "ErkVG2cUUmkW"
      },
      "execution_count": 14,
      "outputs": []
    },
    {
      "cell_type": "markdown",
      "source": [
        "# Model Architecture"
      ],
      "metadata": {
        "id": "a_Wz6OkELeGA"
      }
    },
    {
      "cell_type": "code",
      "source": [
        "MAX_LENGTH = 1500"
      ],
      "metadata": {
        "id": "R2lk69dSVi84"
      },
      "execution_count": 15,
      "outputs": []
    },
    {
      "cell_type": "code",
      "source": [
        "class EncoderRNN(nn.Module):\n",
        "    def __init__(self, input_size, hidden_size):\n",
        "        super(EncoderRNN, self).__init__()\n",
        "        self.hidden_size = hidden_size\n",
        "\n",
        "        self.embedding = nn.Embedding(input_size, hidden_size)\n",
        "        self.gru = nn.GRU(hidden_size, hidden_size)\n",
        "\n",
        "    def forward(self, input, hidden):\n",
        "        embedded = self.embedding(input).view(1, 1, -1)\n",
        "        output = embedded\n",
        "        output, hidden = self.gru(output, hidden)\n",
        "        return output, hidden\n",
        "\n",
        "    def initHidden(self):\n",
        "        return torch.zeros(1, 1, self.hidden_size, device=device)"
      ],
      "metadata": {
        "id": "-_SLSo-JUEt2"
      },
      "execution_count": 16,
      "outputs": []
    },
    {
      "cell_type": "code",
      "source": [
        "class DecoderRNN(nn.Module):\n",
        "    def __init__(self, hidden_size, output_size):\n",
        "        super(DecoderRNN, self).__init__()\n",
        "        self.hidden_size = hidden_size\n",
        "\n",
        "        self.embedding = nn.Embedding(output_size, hidden_size)\n",
        "        self.gru = nn.GRU(hidden_size, hidden_size)\n",
        "        self.out = nn.Linear(hidden_size, output_size)\n",
        "        self.softmax = nn.LogSoftmax(dim=1)\n",
        "\n",
        "    def forward(self, input, hidden):\n",
        "        output = self.embedding(input).view(1, 1, -1)\n",
        "        output = F.relu(output)\n",
        "        output, hidden = self.gru(output, hidden)\n",
        "        output = self.softmax(self.out(output[0]))\n",
        "        return output, hidden\n",
        "\n",
        "    def initHidden(self):\n",
        "        return torch.zeros(1, 1, self.hidden_size, device=device)"
      ],
      "metadata": {
        "id": "wiakkKBJUXB4"
      },
      "execution_count": 17,
      "outputs": []
    },
    {
      "cell_type": "code",
      "source": [
        "class AttnDecoderRNN(nn.Module):\n",
        "    def __init__(self, hidden_size, output_size, dropout_p=0.1, max_length=MAX_LENGTH):\n",
        "        super(AttnDecoderRNN, self).__init__()\n",
        "        self.hidden_size = hidden_size\n",
        "        self.output_size = output_size\n",
        "        self.dropout_p = dropout_p\n",
        "        self.max_length = max_length\n",
        "\n",
        "        self.embedding = nn.Embedding(self.output_size, self.hidden_size)\n",
        "        self.attn = nn.Linear(self.hidden_size * 2, self.max_length)\n",
        "        self.attn_combine = nn.Linear(self.hidden_size * 2, self.hidden_size)\n",
        "        self.dropout = nn.Dropout(self.dropout_p)\n",
        "        self.gru = nn.GRU(self.hidden_size, self.hidden_size)\n",
        "        self.out = nn.Linear(self.hidden_size, self.output_size)\n",
        "\n",
        "    def forward(self, input, hidden, encoder_outputs):\n",
        "        embedded = self.embedding(input).view(1, 1, -1)\n",
        "        embedded = self.dropout(embedded)\n",
        "\n",
        "        attn_weights = F.softmax(\n",
        "            self.attn(torch.cat((embedded[0], hidden[0]), 1)), dim=1)\n",
        "        attn_applied = torch.bmm(attn_weights.unsqueeze(0),\n",
        "                                 encoder_outputs.unsqueeze(0))\n",
        "\n",
        "        output = torch.cat((embedded[0], attn_applied[0]), 1)\n",
        "        output = self.attn_combine(output).unsqueeze(0)\n",
        "\n",
        "        output = F.relu(output)\n",
        "        output, hidden = self.gru(output, hidden)\n",
        "\n",
        "        output = F.log_softmax(self.out(output[0]), dim=1)\n",
        "        return output, hidden, attn_weights\n",
        "\n",
        "    def initHidden(self):\n",
        "        return torch.zeros(1, 1, self.hidden_size, device=device)"
      ],
      "metadata": {
        "id": "Ke4DjmIgeSOH"
      },
      "execution_count": 18,
      "outputs": []
    },
    {
      "cell_type": "markdown",
      "source": [
        "# Training"
      ],
      "metadata": {
        "id": "Et7Yk9Zlr0rz"
      }
    },
    {
      "cell_type": "code",
      "source": [
        "teacher_forcing_ratio = 0.5\n",
        "def train(input_tensor, target_tensor, encoder, decoder, encoder_optimizer, decoder_optimizer, criterion, max_length=MAX_LENGTH):\n",
        "    encoder_hidden = encoder.initHidden()\n",
        "\n",
        "    encoder_optimizer.zero_grad()\n",
        "    decoder_optimizer.zero_grad()\n",
        "\n",
        "    input_length = input_tensor.size(0)\n",
        "    target_length = target_tensor.size(0)\n",
        "\n",
        "    encoder_outputs = torch.zeros(max_length, encoder.hidden_size, device=device)\n",
        "\n",
        "    loss = 0\n",
        "\n",
        "    for ei in range(input_length):\n",
        "        encoder_output, encoder_hidden = encoder(\n",
        "            input_tensor[ei], encoder_hidden)\n",
        "        encoder_outputs[ei] = encoder_output[0, 0]\n",
        "\n",
        "    decoder_input = torch.tensor([[SOS_token]], device=device)\n",
        "\n",
        "    decoder_hidden = encoder_hidden\n",
        "\n",
        "    use_teacher_forcing = True if random.random() < teacher_forcing_ratio else False\n",
        "\n",
        "    if use_teacher_forcing:\n",
        "        # Teacher forcing: Feed the target as the next input\n",
        "        for di in range(target_length):\n",
        "            decoder_output, decoder_hidden, decoder_attention = decoder(\n",
        "                decoder_input, decoder_hidden, encoder_outputs)\n",
        "            loss += criterion(decoder_output, target_tensor[di])\n",
        "            decoder_input = target_tensor[di]  # Teacher forcing\n",
        "\n",
        "    else:\n",
        "        # Without teacher forcing: use its own predictions as the next input\n",
        "        for di in range(target_length):\n",
        "            decoder_output, decoder_hidden, decoder_attention = decoder(\n",
        "                decoder_input, decoder_hidden, encoder_outputs)\n",
        "            topv, topi = decoder_output.topk(1)\n",
        "            decoder_input = topi.squeeze().detach()  # detach from history as input\n",
        "\n",
        "            loss += criterion(decoder_output, target_tensor[di])\n",
        "            if decoder_input.item() == EOS_token:\n",
        "                break\n",
        "\n",
        "    loss.backward()\n",
        "\n",
        "    encoder_optimizer.step()\n",
        "    decoder_optimizer.step()\n",
        "\n",
        "    return loss.item() / target_length"
      ],
      "metadata": {
        "id": "M1oalpBXU9rb"
      },
      "execution_count": 19,
      "outputs": []
    },
    {
      "cell_type": "code",
      "source": [
        "import time\n",
        "import math\n",
        "\n",
        "def asMinutes(s):\n",
        "    m = math.floor(s / 60)\n",
        "    s -= m * 60\n",
        "    return '%dm %ds' % (m, s)\n",
        "\n",
        "def timeSince(since, percent):\n",
        "    now = time.time()\n",
        "    s = now - since\n",
        "    es = s / (percent)\n",
        "    rs = es - s\n",
        "    return '%s (- %s)' % (asMinutes(s), asMinutes(rs))"
      ],
      "metadata": {
        "id": "_gyQoN4iVMIh"
      },
      "execution_count": 20,
      "outputs": []
    },
    {
      "cell_type": "code",
      "source": [
        "def trainIters(encoder, decoder, n_iters, print_every=1000, plot_every=100, learning_rate=0.01):\n",
        "    start = time.time()\n",
        "    plot_losses = []\n",
        "    print_loss_total = 0  # Reset every print_every\n",
        "    plot_loss_total = 0  # Reset every plot_every\n",
        "\n",
        "    encoder_optimizer = optim.SGD(encoder.parameters(), lr=learning_rate)\n",
        "    decoder_optimizer = optim.SGD(decoder.parameters(), lr=learning_rate)\n",
        "\n",
        "    training_pairs = [tensorsFromPair(random.choice(pairs))\n",
        "                      for i in range(n_iters)]\n",
        "    criterion = nn.NLLLoss()\n",
        "\n",
        "    for iter in range(1, n_iters + 1):\n",
        "        training_pair = training_pairs[iter - 1]\n",
        "        input_tensor = training_pair[0]\n",
        "        target_tensor = training_pair[1]\n",
        "        if input_tensor.size(0) > 1500:\n",
        "          continue\n",
        "        loss = train(input_tensor, target_tensor, encoder,\n",
        "                     decoder, encoder_optimizer, decoder_optimizer, criterion)\n",
        "        print_loss_total += loss\n",
        "        plot_loss_total += loss\n",
        "\n",
        "        if iter % print_every == 0:\n",
        "            print_loss_avg = print_loss_total / print_every\n",
        "            print_loss_total = 0\n",
        "            print('%s (%d %d%%) %.4f' % (timeSince(start, iter / n_iters),\n",
        "                                         iter, iter / n_iters * 100, print_loss_avg))\n",
        "\n",
        "        if iter % plot_every == 0:\n",
        "            plot_loss_avg = plot_loss_total / plot_every\n",
        "            plot_losses.append(plot_loss_avg)\n",
        "            plot_loss_total = 0\n",
        "\n",
        "    showPlot(plot_losses)"
      ],
      "metadata": {
        "id": "5X_zXPmZVPd_"
      },
      "execution_count": 21,
      "outputs": []
    },
    {
      "cell_type": "code",
      "source": [
        "import matplotlib.pyplot as plt\n",
        "plt.switch_backend('agg')\n",
        "import matplotlib.ticker as ticker\n",
        "\n",
        "\n",
        "def showPlot(points):\n",
        "    plt.figure()\n",
        "    fig, ax = plt.subplots()\n",
        "    # this locator puts ticks at regular intervals\n",
        "    loc = ticker.MultipleLocator(base=0.2)\n",
        "    ax.yaxis.set_major_locator(loc)\n",
        "    plt.plot(points)"
      ],
      "metadata": {
        "id": "r5mLsm_FVR0S"
      },
      "execution_count": 22,
      "outputs": []
    },
    {
      "cell_type": "code",
      "source": [
        "def evaluate(encoder, decoder, sentence, max_length=MAX_LENGTH):\n",
        "    with torch.no_grad():\n",
        "        input_tensor = tensorFromSentence(input_lang, sentence)\n",
        "        input_length = input_tensor.size()[0]\n",
        "        encoder_hidden = encoder.initHidden()\n",
        "\n",
        "        encoder_outputs = torch.zeros(max_length, encoder.hidden_size, device=device)\n",
        "\n",
        "        for ei in range(input_length):\n",
        "            encoder_output, encoder_hidden = encoder(input_tensor[ei],\n",
        "                                                     encoder_hidden)\n",
        "            encoder_outputs[ei] += encoder_output[0, 0]\n",
        "\n",
        "        decoder_input = torch.tensor([[SOS_token]], device=device)  # SOS\n",
        "\n",
        "        decoder_hidden = encoder_hidden\n",
        "\n",
        "        decoded_words = []\n",
        "        decoder_attentions = torch.zeros(max_length, max_length)\n",
        "\n",
        "        for di in range(max_length):\n",
        "            decoder_output, decoder_hidden, decoder_attention = decoder(\n",
        "                decoder_input, decoder_hidden, encoder_outputs)\n",
        "            decoder_attentions[di] = decoder_attention.data\n",
        "            topv, topi = decoder_output.data.topk(1)\n",
        "            if topi.item() == EOS_token:\n",
        "                decoded_words.append('<EOS>')\n",
        "                break\n",
        "            else:\n",
        "                decoded_words.append(output_lang.index2word[topi.item()])\n",
        "\n",
        "            decoder_input = topi.squeeze().detach()\n",
        "\n",
        "        return decoded_words, decoder_attentions[:di + 1]"
      ],
      "metadata": {
        "id": "NNMWeh8KVVz5"
      },
      "execution_count": 23,
      "outputs": []
    },
    {
      "cell_type": "code",
      "source": [
        "def evaluateRandomly(encoder, decoder, n=10):\n",
        "    for i in range(n):\n",
        "        pair = random.choice(pairs)\n",
        "        print('>', pair[0])\n",
        "        print('=', pair[1])\n",
        "        output_words, attentions = evaluate(encoder, decoder, pair[0])\n",
        "        output_sentence = ' '.join(output_words)\n",
        "        print('<', output_sentence)\n",
        "        print('')"
      ],
      "metadata": {
        "id": "rfu8Z5FWVrv2"
      },
      "execution_count": 34,
      "outputs": []
    },
    {
      "cell_type": "code",
      "source": [
        "hidden_size = 256\n",
        "encoder1 = EncoderRNN(input_lang.n_words, hidden_size).to(device)\n",
        "attn_decoder1 = AttnDecoderRNN(hidden_size, output_lang.n_words, dropout_p=0.1).to(device)\n",
        "\n",
        "trainIters(encoder1, attn_decoder1, 20000, print_every=1000)"
      ],
      "metadata": {
        "colab": {
          "base_uri": "https://localhost:8080/"
        },
        "id": "IkNmToBXVx39",
        "outputId": "3058e5e9-b5ff-42ea-b1b5-e12c8626231f"
      },
      "execution_count": 35,
      "outputs": [
        {
          "output_type": "stream",
          "name": "stdout",
          "text": [
            "23m 2s (- 437m 40s) (1000 5%) 5.3378\n",
            "46m 19s (- 416m 56s) (2000 10%) 6.7561\n",
            "69m 29s (- 393m 47s) (3000 15%) 6.9559\n",
            "92m 15s (- 369m 3s) (4000 20%) 6.8865\n",
            "115m 55s (- 347m 45s) (5000 25%) 6.9107\n",
            "138m 40s (- 323m 34s) (6000 30%) 6.7843\n",
            "162m 15s (- 301m 20s) (7000 35%) 6.7713\n",
            "184m 47s (- 277m 10s) (8000 40%) 6.6752\n",
            "208m 0s (- 254m 13s) (9000 45%) 6.5832\n",
            "231m 3s (- 231m 3s) (10000 50%) 6.6425\n",
            "253m 39s (- 207m 32s) (11000 55%) 6.5072\n",
            "276m 58s (- 184m 39s) (12000 60%) 6.4818\n",
            "299m 54s (- 161m 29s) (13000 65%) 6.5327\n",
            "322m 58s (- 138m 24s) (14000 70%) 6.4218\n",
            "345m 48s (- 115m 16s) (15000 75%) 6.3960\n",
            "368m 45s (- 92m 11s) (16000 80%) 6.3305\n",
            "392m 2s (- 69m 10s) (17000 85%) 6.2985\n",
            "414m 21s (- 46m 2s) (18000 90%) 6.3019\n",
            "437m 44s (- 23m 2s) (19000 95%) 6.2344\n",
            "461m 1s (- 0m 0s) (20000 100%) 6.2194\n"
          ]
        }
      ]
    },
    {
      "cell_type": "code",
      "source": [
        "evaluateRandomly(encoder1, attn_decoder1)"
      ],
      "metadata": {
        "colab": {
          "base_uri": "https://localhost:8080/"
        },
        "id": "0WxSBQ5Q0xrJ",
        "outputId": "c6ed44b9-c0c7-49a0-dade-e44417f1946f"
      },
      "execution_count": 36,
      "outputs": [
        {
          "output_type": "stream",
          "name": "stdout",
          "text": [
            ">  instyle.com the co star of 27 dresses discusses his personal style. i just feel dirty, says james marsden. not to be alarmed there is nothing indecent going on here. james marsden talks about his favorite kind of clothes and how his style has changed over the years. the 34 year old is explaining what it feels like to be sporting facial hair for a film he is working on with cameron diaz. yet even the newly grown whiskers cannot hide the finely chiseled features of an actor who seems to have cornered the hollywood market on hottie who loses the girl roles enchanted, superman returns and, of course, the notebook. but the oklahoma bred star does not mind his wholesome image. that s really me, he says. i m a little dorky awkward. however, his onscreen luck could be changing with his latest film, 27 dresses, a romantic comedy co starring katherine heigl. scruffy or not, we will be watching. you have played a prince in enchanted and the superhero cyclops in the x men movies. is that a big deal to your kids and their friends my daughter, mary, is only 2, and my son, jack, is 7. he has a cyclops action figure, but he is really into spider man and pixar movies buzz lightyear is his guy. no superman, no x men. i think he just assumes that everyone at his school has a dad who is a big superhero. you also played corny collins, the tv dance show host in hairspray. what were you like in high school that is when i came out of my shell and became more social people thought i was funny. i got into a whole preppy thing duck head shorts and dockers. how would you describe your style now functional comfort. for a guy, it should not ever look like you thought about it too much, like the clothes are wearing you. whose clothes do you like paul smith off the rack it is a slim cut, and i do not need to have it tailored. i always feel like an 8 year old when i dress up in a suit, like, when can i take this thing off but i wore a black dolce gabbana suit to the premi re of hairspray that was like, ok, now i know what a great suit is. classic, clean lines sharp, sharp, sharp. do you change your style from coast to coast in l.a. it is too easy to throw on a pair of american apparel sweats, a t shirt and running shoes and just wear those for days. in new york, i actually like looking nice. maybe i am just getting older, but young guys need to pull their pants up. do you ever shop for your wife i love shopping for dresses, and i actually do a pretty good job. when i was in new york, i went into j. crew in soho and got her a cool fifties type dress with tiny polka dots. style wise i am good, but figuring out sizing is a different story. what do you find sexy on a woman i like spaghetti straps for my wife she has great shoulders and a great neck. i love when she puts her hair up, because i can see the back of her neck, so delicate and vulnerable. it is the vampire in me. or my obsession with cheerleaders their hair up in a ponytail. when i was young, i could never have that. never got the cheerleader eventually my wife was a cheerleader. what does your wife find sexy on you a button front shirt with baby spit up on the shoulder. that means a guy is taking care of the kids and is a good father that is sexy to a woman. the adult version of rose petals and champagne is if i let my wife sleep in and i get up to change the baby s diaper, feed the kids, and do the dishes. who inspires you paul newman. my middle name is paul, and my grandfather once said i was going to look like paul newman. that stuck with me. beyond being a good looking guy, newman is a great actor with a long career, and he is got a life. he is married with kids and lives in connecticut, sells popcorn and marinara sauce, and gives the money to charity. anyone else george clooney dresses like gary cooper might have. cary grant. a streetcar named desire era marlon brando. they all made it look effortless. their clothes framed their personalities really well comfortable, classic, but sharp. these guys could pull off a great suit, or jeans and a t shirt. do not you agree that guys have it easy they are considered distinguished as they grow older i do not think it is guy specific. as women get older, they become more comfortable with themselves. susan sarandon is the poster woman for that. a lot of guys fantasize about being with women who are in their forties or fifties. so your advice is ... act your age. dress your age. look your age. that does not mean you cannot have fun. and is not it time you got the girl in one of your movies there are a couple of things i need to do onscreen one, get the girl two, pack a gun. do not you love my career philosophy e mail to a friend . get a free trial issue of instyle click here copyright 2008 time inc. all rights reserved.\n",
            "= in high school marsden showed off his preppy side . while it is easy for him to throw on sweats, marsden likes to dress up . actor says he is inspired by paul newman . marsden i can shop style for women, but size is a different issue .\n",
            "<  s is the is to to the to . . . . . is by to for the . . . . . to for . . . . . . . . . . . for . . . . . . . <EOS>\n",
            "\n",
            ">  cnn a strong earthquake measuring 6.1 in magnitude struck southern iran on wednesday, according to a report from the u.s. geological survey. the citadel at the city of bam, iran in 2005, hit by a quake in 2003 when 30,000 people died. the quake demolished nearly 200 villages in iran s hormozgan province, according to iran s press tv, citing the head of the provincial disaster management headquarters, yasser hazbavi. at least six people were killed and 46 others were injured, hazbavi told press tv. people panicked and fled buildings when the temblor struck in the quake prone region around 3 30 p.m. iranian time 1100 gmt , iran s state run irna news agency reported. it also knocked out power to the region. see map of quake s epicenter . the epicenter was located 35 miles 55 km west southwest of bandar e abbas, iran just across the narrow strait of hormuz from the united arab emirates according to usgs. mehdi rezapoor, head of the iranian seismological center, said it was a medium sized quake. speaking on press tv, rezapoor had no details on damage, but said that based on the quake s strength, i do not think it was very extensive. the quake shook nearby dubai, where cnn staff members said they felt the building they were in shake for about 15 to 20 seconds. from my office window at the dubai media city where all foreign media are located, i can see that a lot of offices have evacuated buildings, cnn dubai bureau chief samson desta said. i can see up to perhaps 200 people who have taken refuge out in the streets, causing somewhat of a traffic jam. there was no evidence of any damage in dubai, where there are a lot of high rise buildings. iran lies on a series of seismic fault lines and has experienced devastating earthquakes most notably in december 2003 when a 6.6 magnitude quake devastated the ancient city of bam in southeast iran, killing at least 30,000 people.\n",
            "= strong quake measuring 6.1 in magnitude strikes southern iran . epicenter located about 55 km west southwest of bandar e abbas, iran . new quake destroys nearly 200 villages, according to iran s press tv . new head of provincial disaster management at least 6 dead, 46 others injured .\n",
            "< new than in in of in in as in . . . . . . in of to in . . . . . . . . . . . <EOS>\n",
            "\n",
            "> new york cnn iranian president mahmoud ahmadinejad said thursday that he will not push to visit the site of the destroyed world trade center during his visit to the united nations next week. iran s president said he wanted to pay his respects and lay a wreath at the site of the 2001 al qaeda attacks. the controversial leader asked to pay his respects and lay a wreath at the site of the 2001 al qaeda attacks, but new york city officials on wednesday denied that request, citing safety concerns at what is now a construction site. ahmadinejad said he would try to visit the site if we have the time and the conditions are conducive. but if local officials cannot make the proper arrangements, i will not insist, he said in an interview to be aired sunday on cbs 60 minutes. the bush administration considers iran a state sponsor of terrorism, and state department spokesman tom casey called the request the height of hypocrisy. cbs correspondent scott pelley told ahmadinejad he must have known that visiting the world trade center site would infuriate many americans. well, i am amazed, he said, surprised by the question. how can you speak for the whole of the american nation the american nation is made up of 300 million people. there are different points of view over there. more than 2,700 people died in the attack on the world trade center, when al qaeda terrorists flew hijacked passenger jets into the twin towers. a third jet hit the pentagon, and a fourth crashed in a pennsylvania field after passengers resisted their hijackers. iran is ruled by a shiite muslim government hostile to the fundamentalist sunni al qaeda. ahmadinejad s predecessor, mohammed khatami, condemned the attacks and cooperated with the u.s. led campaign to topple al qaeda s taliban allies in afghanistan that followed. but the united states calls iran the world s top state sponsor of terrorism because of its support of the lebanese shiite muslim militia hezbollah and other militant groups. washington and tehran have not had formal diplomatic relations since 1980 after iranian militants stormed the united states embassy in tehran and held americans hostage for 444 days. the bush administration has also accused iran of meddling in iraq and afghanistan, where u.s. troops are battling taliban and al qaeda remnants more than six years after the september 11, 2001, attacks. it accuses iran of supplying advanced explosives to shiite muslim militias, some of which have used the devices against u.s. troops. ahmadinejad also has drawn fire for his hard line anti israel stance and his insistence that iran will defy international demands that it halt its production of enriched uranium. iran insists it is producing nuclear fuel for civilian power plants, but washington accuses tehran of trying to create a nuclear bomb. the iranian leader has made statements suggesting that israel be politically wiped off the map, though he insists that can be accomplished without violence. he has questioned the existence of the holocaust, the genocidal nazi campaign against european jews, and warned europeans that they may pay a heavy price for its support of israel. ahmadinejad is also slated to speak on the campus of columbia university during his visit, university president lee bollinger said. his presence is likely to spark protests on and off campus. bollinger said the appearance is part of the world leaders forum an annual university event intended to further columbia s long standing tradition of serving as a major forum for robust debate. e mail to a friend .\n",
            "= iranian president mahmoud ahmadinejad had asked to visit ground zero . city officials turned down request iranian president says he will not insist . the united states calls iran the world s top state sponsor of terrorism . the iranian leader questioned why such a visit would be considered insulting .\n",
            "< more than than people to to to to in . . . . . . . to to . . . . . . . . . . . . . . . . . . . . . . . . <EOS>\n",
            "\n",
            "> washington cnn the federal government is establishing a new system for updating medical records of servicemen and women during and after their military careers, president obama announced thursday. president obama made veterans affairs a big priority in the 2008 campaign and continues to do so. the joint virtual lifetime electronic record will, among other things, help ensure a streamlined transition of health care records between the pentagon and the veterans administration. it will provide a framework to ensure that all health care providers have all the information they need to deliver high quality health care while reducing medical errors, the white house said in a background statement. when a member of the armed forces separates from the military, he or she will no longer have to walk paperwork from a defense department duty station to a local va health center. their electronic records will transition along with them and remain with them forever, obama said in remarks delivered near the white house. the system will cut through red tape and allow new veterans to start receiving their benefits more quickly, he promised. during the announcement, obama was joined by defense secretary robert gates and veterans affairs secretary eric shinseki. we welcome this news. ... this is a huge day for veterans and troops, paul rieckhoff, head of iraq and afghanistan veterans of america, told cnn. this is a good way for obama to come back from iraq and make a powerful statement. the white house recently proposed a significant budget increase for the veterans administration, including an 11 percent hike in fiscal year 2010. in march, however, the administration abandoned a controversial plan to charge private insurers for treatment of veterans service connected ailments. veterans representatives and members of congress angrily opposed the proposal, which white house spokesman robert gibbs said was never finalized.\n",
            "= new this is a huge day for veterans and troops, chief of veterans group says . government is establishing a new system for updating medical records . joint virtual lifetime electronic record aims to streamline data between pentagon, va . obama system will cut through red tape, allow new vets to get benefits faster .\n",
            "< new than say people in in for to . . . . . . in of in . to . . . . . . . . . <EOS>\n",
            "\n",
            ">  cnn a professor who compared some victims of the al qaeda attack on the world trade center to nazis was fired tuesday by the university of colorado s board of regents. professor ward churchill wrote that some 9 11 victims were little eichmanns. ward churchill raised hackles with a 2002 essay that argued the september 11, 2001, attacks were a justified reaction to u.s. policies in the middle east, and said the hijackers who killed nearly 3,000 people in new york, washington and pennsylvania had the courage of their convictions. but the regents said churchill s firing was unrelated to the essay, which went largely unnoticed for three years. instead, it cited deliberate and repeated research misconduct. a university investigation had found cases of plagiarism and falsification in previous papers by churchill allegations that surfaced after his essay became widely known. the board of regents affirms that its decisions in this matter have been made solely on the basis of the allegations of research misconduct against professor churchill and have not been influenced or motivated by extrinsic considerations, professor churchill s political and social views or a desire to punish professor churchill for expression of his political or social views, the university announced. cu interim chancellor phil distefano recommended churchill s dismissal in june 2006 after a university committee completed its investigation. churchill s essay drew little notice until a 1,800 student college in upstate new york invited him to take part in a 2005 forum on prisons and native american rights. the invitation was rescinded after criticism from then new york gov. george pataki, then colorado gov. bill owens and hundreds of relatives of those killed in the attacks created a media firestorm. the piece had called some of those who died in the world trade center little eichmanns a reference to adolf eichmann, the gestapo officer who was one of the chief architects of the holocaust arguing they were a technocratic corps at the very heart of america s global financial empire. churchill, who had tenure, stepped down from his post as head of cu s ethnic studies department amid the flap but remained on staff. he had no immediate reaction to tuesday s decision. e mail to a friend .\n",
            "= ward churchill said 9 11 attacks were justified reaction to u.s. mideast policies . university of colorado says 9 11 essay not reason he was fired . dismissal due to plagiarism, falsification in other papers, university says .\n",
            "< more than half to to to to to in . . . . . . . to . . . . . . . . . . . . . . . . . . . . . . <EOS>\n",
            "\n",
            ">  cnn ten co workers from new jersey say they will split a 216 million mega millions jackpot, thanks to the five bucks they each kicked into a pool. melanie jacob, linda harrington and bob space, who bought the tickets, are three of the lucky winners. the 10, who work for chubb commercial insurance in whitehouse station, new jersey, held a news conference wednesday to announce their win. bob space of toms river, new jersey, held up a lottery ticket that clearly showed the winning numbers from tuesday s drawing 26, 32, 35, 43, 52 and 10. i checked and i rechecked and then i sent it to my wife, said space, who purchased 50 sets of lottery numbers for himself and his nine co workers from a singin oil gas station near his house on monday. watch man describe buying winning ticket . space went to work as usual on wednesday morning, playing it coy. i got an e mail, said todd ellis, the company s chief information officer. it said, we won the big one and then he just put the numbers down. joanne roth got the same e mail. i thought we won 4, because last week we won 7, she said. i said, don t mess with me. space played hardball with co worker oscar oviedo, who had not paid him yet for his share of the lottery tickets. this morning, i come into work early with him, said oviedo, who soon received an instant message from space. i got a surprise for you. come over, the message said. oviedo went to space s cubicle. he s like, you got my money oviedo said he thought, wow, that was rude, but paid up. space shook his hand and said now you are a millionaire. they are not officially millionaires at this point, because the winning ticket has not been presented to lottery officials yet. in due time, space said. we have a year. but another chubb employee said they will cash in their ticket soon. if you have that winning ticket ... please sign the back of the ticket, put it in a safe place and seek legal and financial advice before you come to talk to us, new jersey lottery spokesman dominick demarco said at the news conference, held at the gas station where the winning ticket was sold. be careful with it. none of the co workers, who have been with chubb for seven to 30 years, said they had immediate plans to quit. the ticket is worth an estimated 216 million if the money is paid out over 26 years, or about 140 million if they choose an immediate cash payout. it relieves a lot of stress ... and it also gives a nice cushion to be able to help the people we want to help, ellis said. i feel incredibly blessed. i cannot even absorb it at this point. roth, recently divorced, said she will pay off her bills. i m shocked. ... the whole thing is cool. mega millions is played in 12 states california, georgia, illinois, maryland, massachusetts, michigan, new jersey, new york, ohio, texas, virginia and washington.\n",
            "= 10 winning new jersey co workers work for an insurance company . they each kicked in 5 in an office pool and bought 50 sets of numbers . payout is 216 million over 26 years or about 140 million for immediate payout . those oh so valuable winning digits are 26, 32, 35, 43, 52 and 10 .\n",
            "< new york of in with with with in of . . . . . in of in in of . . . . . . . . . . <EOS>\n",
            "\n",
            ">  cnn in april 2007, uefa s executive committee voted to accept a joint proposal from poland and ukraine to host the european football championships in 2012. poland faces a struggle to upgrade many of its venues, such as tenth anniversary stadium in warsaw. the decision to award the tournament to poland a former communist country and ukraine a former soviet republic was viewed with surprise by many in the world of sport as they had defeated a rival bid from established football powerhouse italy. in addition to providing economic benefits hosting euro 2008 was worth over 450 million to the austrian economy according to its government staging such a high profile international event would cap their remarkable transformation into credible democracies in the eyes of the world. however, both countries have had to address a number of problems. watch more about poland s bid . political instability remains an issue in ukraine the fragile ruling coalition recently collapsed while poland s national team narrowly avoided a suspension after football s world ruling body fifa said its federation had done little to stamp out corruption. a match fixing scandal in the domestic league in 2005 led to about 70 people being arrested, though no one has been prosecuted. significantly, neither country has hosted a major sporting event and concerns remain about the shortage of adequate stadiums, high quality hotels and poor transport infrastructure in both poland and ukraine. with the proposed semi final venues in the eastern ukrainian city of donetsk and the polish capital warsaw, fans would currently be faced with a 30 hour train journey to attend both games. although there are plans to expand and improve the highway linking the nations. the opening match is scheduled to be staged at a new 70,000 capacity national stadium in warsaw when construction work is completed in 2009 at a cost of 800 million. the final will be held at kiev s redeveloped olympic stadium, however all 12 proposed venues need considerable work in order to comply with international standards. the remaining games will be held in the polish cities of gdansk, poznan, wroclaw, chorzow and krakow, as well as the ukrainian cities of lviv and dnipropetrovsk. concerns about the readiness of the co hosts led to a warning in june this year from uefa president michel platini that they risked losing the right to stage the tournament if stadiums in their capitals were not ready. this prompted a defiant response from the prime minister of poland, who vowed to prove the skeptics wrong and make the 2012 european championship an organizational triumph. we are aware that there are countries interested in us failing and the only successful rebuke to that will be better coordination and solidarity in our actions, polish premier donald tusk told reporters at the time. bizarrely, the head of poland s football association, michal listkiewicz, offered uefa an alternative option for 2012 after voicing his concerns about poland s ability to overcome its transport issues. if the european championships took place in 2016, we would have no problems about being ready then, listkiewicz told germany s die zeit online. but realistically we are looking at having no good roads in time for 2012, he said. from gdansk in poland to donetsk in the ukraine is more than 1,500 kilometers 930 miles . this is not like in austria and switzerland where everything lies close together. both countries were given a partial reprieve in september this year after uefa s executive committee met in bordeaux to discuss a progress report on preparations for the tournament. the executive committee reconfirmed uefa s commitment to organize euro 2012 in poland and ukraine, platini told uefa.com. at the same time, the committee stressed a number of conditions must be met in order to bring forward the whole project. if we do not have the stadiums in kiev and warsaw, that is a problem. ukraine cannot afford to send everyone to a country where there is no capital city ready , platini said. they are working very hard and we have confidence in them. the president and the prime minister tell me it will be ready. what am i supposed to say that i do not believe them he added that the committee would review the progress again in may 2009. uefa will then confirm the cities that will host matches. meanwhile, the scottish fa has offered to step in to host the tournament if uefa decides to look elsewhere. failure to host euro 2012 is not an option in both kiev and warsaw. it would be viewed as a national embarrassment.\n",
            "= doubts persist about poland and ukraine s ability to stage tournament in 2012 . polish fa fighting corruption claims within its domestic league . other issues include inadequate stadiums and a poor transport infrastructure . uefa warned both countries to speed up its progress .\n",
            "<  group s the to in for to the . . . . . . the to in for to the . . . . . . . . . . . . . . <EOS>\n",
            "\n",
            "> atlanta, georgia cnn terrorism, a slow economy and rising gas prices are issues that can keep american voters awake at night. undecided voters gathered at emory university, where dr. drew westen studies how brains react to messages. political strategists know that the most successful candidates are masters at capitalizing on fears such as these, and that can make a huge difference at the polls. in 1964, lyndon johnson was running for president against conservative barry goldwater when his campaign unleashed the daisy ad. it showed a little girl counting as she plucked a daisy, charmingly mixing up her numbers. then a baritone voice takes over, counting down to an overwhelming nuclear explosion. it is followed with a warning that the stakes are too high not to vote for johnson. the ad, which ran only once, was so chilling and effective, analysts say, it helped johnson win the presidency by one of the widest margins in u.s. history. cnn recently gathered eight undecided voters to see how they would respond to attack ads and how the ads might affect their choices. they met at emory university in atlanta, georgia, where psychologist drew westen studies how brains react to candidates messages. westen, who wrote the political brain, said fear based attack ads are effective because they tap into a voter s subconscious. those kinds of gut level reactions tell us things like, i do not feel like this person is telling us the truth, westen said. unless someone is a really good con man, those reactions are extremely helpful. the conscious brain processes only a tiny percent of information. westen and his business partner, joel weinberger, have created software, through their company thinkscan, that looks into a voter s subconscious. the software does this by measuring people s reaction time to certain words after they watch attack ads. the undecided voters in cnn s group watched the ads and were then asked to identify the color of words such as weak, inexperienced and terrorist. if they hesitated, even for one thousandth of a second, before they clicked on the color that corresponded with the word, weinberger said, it meant the word had an impact. if the word is on their mind, if the word was activated, it will slow them down, weinberger said. westen predicted that the undecided voters would say they did not like the ads and that the ads had no impact on them. he was right. the group watched hillary clinton s 3 a.m. campaign ad, which was intended to make voters question barack obama s experience. viewers said that the ad was fear mongering and that it did not make them think clinton was a stronger leader than obama. but the data, westen said, showed that their brains reacted differently. voters had the greatest hesitation with words like weak and lightweight during the color test. westen said this meant the ad made them question obama s readiness. the purpose, too, is to make him seem scary, dangerous. you need to be afraid of this guy as president, westen said. that message unconsciously got through. the undecided voters also watched an ad attacking john mccain for saying the u.s. could be in iraq for the next 100 years. after watching the ad, the group gave it a thumbs down. but researchers said the data showed that it left them feeling mccain has poor judgment and is too close to president bush. the results were identical when the same test was given to a much larger group of 100 voters. this happens because the ads trigger a response in the part of the brain called the amygdala, which experiences emotions such as fear. when it is aroused, it overrides logic, according to westen. despite the ability of attack ads to affect voters subconscious thinking, westen cautions that fear based ads are risky because they can backfire. what advice does westen have for presidential hopefuls they should make voters feel inspired by them and worried about their opponent at the same time, westen said. it works. \n",
            "= fear based attack ads are sometimes used by candidates to influence voters . cnn gathered eight undecided voters to measure the impact of attack ads . psychologist drew westen says fear based ads appeal to voters subconscious .\n",
            "< new than million show . by in for . . . . . . . . by to of in . . . . . . . . . . . <EOS>\n",
            "\n",
            "> washington cnn vice president joe biden brushed aside recent criticism by predecessor dick cheney that moves by the obama administration had put the united states at risk, telling cnn on tuesday that the former vice president was dead wrong. vice president joe biden sits down for an interview with cnn s gloria borger and wolf blitzer on tuesday. i do not think cheney is out of line, but he is dead wrong, he told cnn s wolf blitzer. this administration the last administration left us in a weaker posture than we have been any time since world war ii less regarded in the world, stretched more thinly than we ever have been in the past, two wars under way, virtually no respect in entire parts of the world. ... i guarantee you we are safer today, our interests are more secure today than they were any time during the eight years of the bush administration. in an interview with cnn s john king last month, cheney said president obama had been making some choices that in my mind will raise the risk to the american people of another attack. biden said former president bush had not been fully aware of the country s position in the world. watch biden lash out on bush and cheney . i remember president bush saying to me one time in the oval office, and he was a great guy, enjoyed being with him. he said to me, he said, well, joe, he said, i m a leader. and i said, mr. president, turn around and look behind you. no one s following. people are beginning to follow the united states again as a consequence of our administration. ... i think the biggest thing we are doing is, i am operating in concert with the president, he said. there are not there are look, everybody talks about how powerful cheney was. his power weakened america, in my view. but he did not deny reports of disagreement within the obama administration as well, over the president s plan to widen involvement in afghanistan. a report last week said biden had warned about the possibility of getting into a quagmire, while military advisers pushed for more troops. watch more on obama s afghanistan plan . well, look. without commenting specifically on who took what position, there was a healthy debate. there is a healthy debate within our administration. the vice president said that he condemned a new afghan law that would allow men to rape their wives, but that those issues were not the focus of the u.s. presence in that nation. i am not prepared to send american troops to die for that, he said. as the president made an unannounced visit to baghdad, iraq, on tuesday, biden said that he had no concerns that a recent uptick in violence in iraq might affect plans to withdraw most u.s. troops from that country by the summer of 2010. i m not worried about that at all. we will draw down along the timeline we suggested, the vice president said. watch the full interview . also not a concern for biden the possibility of an israeli strike on iran s nuclear facilities. the vice president said he was not worried that israel s new government, under prime minister benjamin netanyahu, would order such an attack. i do not believe that prime minister netanyahu would do that. i think he would be ill advised to do that. and so my level of concern is no different than it was a year ago. a day after north korea s rocket test sparked alarm from world leaders, biden called for a tougher response from moscow and beijing. what i would like to see is a strong condemnation and a united effort on the part of the chinese, russians in the six party talks to say, enough is enough, there will be greater sanctions, we will squeeze down even harder on north korea, he said. he added that china could do a great deal more, although he was uncertain it would. i think this puts the onus on china and russia and south korea and japan, et cetera, along with us, to be bolder in our condemnation. on the domestic front, biden said that the administration s economic plan would prevent up to 4 million jobs from being lost and stabilize the economy, but that it will take at least another year before you start to see employment, and in the meantime, jobs will continue to disappear. watch biden answer ireporters questions . there will be an additional job loss. ... you are not going to see reports this calendar year saying there was no job loss this month. that is not going to happen. ...there will continue to be job losses the remainder of this year. the question is will they continually go down before they begin to rebound, and employment we go down to zero job loss and back to employment. he said it was too premature to begin discussing another stimulus package, though he has not ruled one out.\n",
            "= vp biden speaks tuesday with cnn s wolf blitzer and gloria borger . biden says recent criticism from former vice president cheney is dead wrong he says bush administration left the country in weakest shape since ww ii . biden calls for tougher response from moscow and beijing on n. korea rocket launch .\n",
            "< new obama says new obama to as as for new . obama is of as for . . . . . for in of to . . . . . . . for . . . . of . for . . . . . . for . . . <EOS>\n",
            "\n",
            "> london, england cnn when hiv positive winnie sseruma was invited to speak on the subject at the united nations in new york last june, she never expected that her condition would prevent her from obtaining a visa. hiv positive winnie sseruma was repeatedly questioned before being allowed into the united states. winnie sseruma has been living with the disease for over 20 years. preparing for her trip, uk based winnie discovered that the united states was one of 70 countries worldwide that either banned or restricted inbound travel for people with hiv. i was told i needed to come to the u.s. embassy for an interview and bring a doctor s letter stating i was fit to travel, sseruma, hiv coordinator for charity christian aid, told cnn. at first, the embassy told me that the first available appointment for my interview would be at a date past the u.n. high level meeting i was meant to attend. only when the u.n. intervened on sseruma s behalf was she granted an earlier interview date. sseruma was relieved when she finally received her visa on time. but the hurdles were far from over. at the airport in new york, sseruma was detained twice for further questioning. it was so humiliating, sseruma said. the immigration officers were asking me very personal questions about my health. a month after sseruma s ordeal, the u.s. senate passed the re authorization of president bush s emergency plan for aids relief pepfar , including an amendment to the ban on travel and immigration for hiv positive non citizens. but the united states travel ban still remains in effect, and will continue to be the law until the department of health and human services hhs modifies its regulations. fifty eight members of congress have sent a letter to the hhs, urging them to take action. russia also places restrictions on travelers with hiv. affected visitors are not permitted to stay in the country for more than three months. anyone applying for a visa for long term stay must present a certificate stating that they are hiv negative. the russian embassy s spokesperson in london told cnn no changes to the ban were currently being considered and declined to comment further. crusading against these bans is ctrl.alt.shift, a uk based organization that attempts to engage youth to combat global and social injustices. the organization argues that there is no public health rationale for restricting liberty of movement or choice of residence on the grounds of hiv status. are these laws outmoded what do you think tell us in the sound off below. the fight against stigmas associated with hiv and aids has been widely adopted by the organization s young members. many are joining ctrl.alt.shift s protests across london. last week, following two protests at the embassies of saudi arabia and south korea both countries ban hiv positive travelers from entering their borders the organization launched its third protest in front of the russian embassy in london. the level of proliferation of the hiv virus in countries that do not implement bans on hiv travelers is proof that these bans have no impact whatsoever, except for reinforcing the stigma, said neil boorman, ctrl.alt.shift s project manager. boorman told cnn that the bans and restrictions further the spread of the epidemic by driving the issue underground and force people to lie about their health on visa applications. tinchy strider, a 22 year old british rap artist, was also present at the protest. i m here because many young people are not aware of these issues, but if they knew these bans existed, they would want to do something about it, tinchy explained. eighteen year old sian anderson agrees. anderson believes it is bad enough to live with hiv and that these regulations make life even harder. some people are completely not at fault, they might have gotten the virus through blood transfusion and russia does not take that into consideration, anderson said. science has moved on from the days where hiv was an unknown virus. now the world needs to move on too, sseruma said. stigma remains our biggest challenge. \n",
            "= russia is one of 11 countries worldwide that restricts hiv positive visitors . the u.s. lifted similar ban last july, but has not yet been implemented . protesters argue that ban forces people to lie about health to gain entry .\n",
            "< new than in in in as for in . . . . . . in to in of to in . . . . . . . . . . . to . . . . . . . <EOS>\n",
            "\n"
          ]
        }
      ]
    },
    {
      "cell_type": "code",
      "source": [
        "from google.colab import drive\n",
        "drive.mount('/content/drive')"
      ],
      "metadata": {
        "colab": {
          "base_uri": "https://localhost:8080/"
        },
        "id": "pbsePtLkoPeI",
        "outputId": "8a604003-4741-4433-9057-162870e5a974"
      },
      "execution_count": 27,
      "outputs": [
        {
          "output_type": "stream",
          "name": "stdout",
          "text": [
            "Mounted at /content/drive\n"
          ]
        }
      ]
    },
    {
      "cell_type": "code",
      "source": [
        "cd /content/drive/MyDrive/ECE1786"
      ],
      "metadata": {
        "colab": {
          "base_uri": "https://localhost:8080/"
        },
        "id": "tcDgpmRKoTbt",
        "outputId": "da6fab34-f7a8-44e0-f7fc-76aaba48cdbb"
      },
      "execution_count": 32,
      "outputs": [
        {
          "output_type": "stream",
          "name": "stdout",
          "text": [
            "/content/drive/MyDrive/ECE1786\n"
          ]
        }
      ]
    },
    {
      "cell_type": "code",
      "source": [
        "torch.save(encoder1.state_dict(), 'encoder.pt')\n",
        "torch.save(attn_decoder1.state_dict(), 'decoder.pt')"
      ],
      "metadata": {
        "id": "jbw-Q3Tg08M_"
      },
      "execution_count": 37,
      "outputs": []
    },
    {
      "cell_type": "code",
      "source": [
        "encoder1.load_state_dict(torch.load('encoder.pt'))\n",
        "attn_decoder1.load_state_dict(torch.load('decoder.pt'))\n",
        "encoder1.eval()\n",
        "attn_decoder1.eval()"
      ],
      "metadata": {
        "id": "0Rj02LIgAUmU"
      },
      "execution_count": null,
      "outputs": []
    }
  ]
}